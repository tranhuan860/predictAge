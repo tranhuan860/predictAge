{
 "cells": [
  {
   "cell_type": "code",
   "execution_count": 1,
   "metadata": {
    "metadata": {}
   },
   "outputs": [],
   "source": [
    "from keras.models import model_from_json\n",
    "\n",
    "# Đọc cấu trúc model từ tệp .json\n",
    "with open(\"model/model.json\", \"r\") as json_file:\n",
    "    loaded_model_json = json_file.read()\n",
    "loaded_model = model_from_json(loaded_model_json)\n",
    "\n",
    "# Tải trọng số vào model đã load\n",
    "loaded_model.load_weights(\"model/model.weights.h5\")\n",
    "\n",
    "# Compile model (cần thiết để tiếp tục sử dụng model)\n",
    "loaded_model.compile(optimizer='adam', loss='mae', metrics=['mse'])"
   ]
  },
  {
   "cell_type": "code",
   "execution_count": 2,
   "metadata": {},
   "outputs": [],
   "source": [
    "#Importing cv2\n",
    "import cv2\n",
    "import numpy as np\n",
    "\n",
    "# Loading cascades\n",
    "face_cascade = cv2.CascadeClassifier('haarcascade_frontalface_default.xml')\n",
    "# eye_cascade = cv2.CascadeClassifier('haarcascade_eye.xml')\n",
    "\n",
    "# Resize lại ảnh  \n",
    "def resize(img, size = (128, 128)):\n",
    "    new_width = size[0]\n",
    "    new_height = size[1]\n",
    "    img_resized = cv2.resize(src=img, dsize=(new_width, new_height))\n",
    "    return img_resized\n",
    "\n",
    "# Trả về vị trí khuôn mặt trong ảnh\n",
    "def detect(img): \n",
    "    faces = face_cascade.detectMultiScale(img,scaleFactor=1.1,minNeighbors=5) \n",
    "    return faces"
   ]
  },
  {
   "cell_type": "code",
   "execution_count": 3,
   "metadata": {
    "metadata": {}
   },
   "outputs": [],
   "source": [
    "age = 0\n",
    "\n",
    "# Tách mặt, resize lại ảnh và dự đoán\n",
    "def process_and_predict(im, change):\n",
    "    global age\n",
    "    \n",
    "    cur_im = np.copy(im)\n",
    "    pos = detect(im)\n",
    "    if(len(pos)>0):\n",
    "        x1, y1, x2, y2 = pos[0]\n",
    "        im = im[y1:y1+y2, x1:x1+x2, :]\n",
    "        cur_im = cv2.rectangle(cur_im, (x1, y1), (x1+x2, y1+y2), (255,0,0), 3)\n",
    "        im = resize(im)\n",
    "        if change:\n",
    "            ar = im\n",
    "            ar = ar.astype('float32')\n",
    "            ar /= 255.0\n",
    "            ar = ar.reshape(1, 128, 128, 3)\n",
    "            age = loaded_model.predict(ar, verbose=0)\n",
    "        cur_im = cv2.putText(cur_im, 'Age:%d'%age, (x1, y1-10), cv2.FONT_HERSHEY_COMPLEX, 1, (0, 255, 0))\n",
    "    \n",
    "    return cur_im\n"
   ]
  },
  {
   "cell_type": "code",
   "execution_count": 4,
   "metadata": {},
   "outputs": [
    {
     "name": "stderr",
     "output_type": "stream",
     "text": [
      "C:\\Users\\ADMIN\\AppData\\Local\\Temp\\ipykernel_22960\\94246835.py:20: DeprecationWarning: Conversion of an array with ndim > 0 to a scalar is deprecated, and will error in future. Ensure you extract a single element from your array before performing this operation. (Deprecated NumPy 1.25.)\n",
      "  cur_im = cv2.putText(cur_im, 'Age:%d'%age, (x1, y1-10), cv2.FONT_HERSHEY_COMPLEX, 1, (0, 255, 0))\n"
     ]
    }
   ],
   "source": [
    "cam = cv2.VideoCapture(0)\n",
    "c = 0\n",
    "while True:\n",
    "    ret, image =cam.read()\n",
    "    if ret:\n",
    "        if c % 20 == 0:\n",
    "            cv2.imshow('Cam 1', process_and_predict(image, True))\n",
    "        else: \n",
    "            cv2.imshow('Cam 1', process_and_predict(image, False))\n",
    "    if cv2.waitKey(1) == ord('q'):\n",
    "        break\n",
    "    c += 1\n",
    "cam.release()\n",
    "cv2.destroyAllWindows()"
   ]
  }
 ],
 "metadata": {
  "kernelspec": {
   "display_name": "Python 3",
   "language": "python",
   "name": "python3"
  },
  "language_info": {
   "codemirror_mode": {
    "name": "ipython",
    "version": 3
   },
   "file_extension": ".py",
   "mimetype": "text/x-python",
   "name": "python",
   "nbconvert_exporter": "python",
   "pygments_lexer": "ipython3",
   "version": "3.12.2"
  }
 },
 "nbformat": 4,
 "nbformat_minor": 2
}
